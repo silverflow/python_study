{
 "cells": [
  {
   "cell_type": "markdown",
   "source": [
    "# coroutine"
   ],
   "metadata": {}
  },
  {
   "cell_type": "markdown",
   "source": [
    "- coroutine은 채ㅐperative routine의 약자로 일반적으로 알고 있는 함수나 메서드 같은 서브루틴이 메인루틴과 종속관계를 가진 것과 다르게, 메인루틴과 대등한 관계로 협력하는 모습에서 코루틴이라고 불리게 되었다."
   ],
   "metadata": {}
  },
  {
   "cell_type": "code",
   "execution_count": 1,
   "source": [
    "def stream_db_records(db_handler):\n",
    "    retrieved_data = None\n",
    "    page_size = 10\n",
    "    try:\n",
    "        while True:\n",
    "            page_size = (yield retrieved_data) or page_size\n",
    "            retrieved_data = db_handler.read_n_records(page_size)\n",
    "        \n",
    "    except GeneratorExit:\n",
    "        db_handler.close()"
   ],
   "outputs": [],
   "metadata": {}
  },
  {
   "cell_type": "markdown",
   "source": [
    "- sned() 전에 next()를 먼저 호출해야 한다는 것을 꼭 기억하자.(그렇지 않으면 TypeError가 발생한다.)\n",
    "- next()를 반드시 호출해야하지만 그렇지 않기 위해서 @prepare_coroutine이라는 데코레이터를 사용하면 편리하게 사용할 수 있다."
   ],
   "metadata": {}
  },
  {
   "cell_type": "code",
   "execution_count": null,
   "source": [
    "@prepare_coroutine\n",
    "def stream_db_records(db_handler):\n",
    "    retrieved_data = None\n",
    "    page_size = 10\n",
    "    try:\n",
    "        while True:\n",
    "            page_size = (yield retrieved_data) or page_size\n",
    "            retrieved_data = db_handler.read_n_records(page_size)\n",
    "        \n",
    "    except GeneratorExit:\n",
    "        db_handler.close()"
   ],
   "outputs": [],
   "metadata": {}
  },
  {
   "cell_type": "code",
   "execution_count": null,
   "source": [],
   "outputs": [],
   "metadata": {}
  }
 ],
 "metadata": {
  "orig_nbformat": 4,
  "language_info": {
   "name": "python",
   "version": "3.8.3",
   "mimetype": "text/x-python",
   "codemirror_mode": {
    "name": "ipython",
    "version": 3
   },
   "pygments_lexer": "ipython3",
   "nbconvert_exporter": "python",
   "file_extension": ".py"
  },
  "kernelspec": {
   "name": "python3",
   "display_name": "Python 3.8.3 64-bit ('crawl': conda)"
  },
  "interpreter": {
   "hash": "2a9895f6a6693118726c6c09eb8e689f0ea16a0ec39b8637a584334620912f11"
  }
 },
 "nbformat": 4,
 "nbformat_minor": 2
}