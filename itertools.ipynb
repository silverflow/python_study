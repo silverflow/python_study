{
 "metadata": {
  "language_info": {
   "codemirror_mode": {
    "name": "ipython",
    "version": 3
   },
   "file_extension": ".py",
   "mimetype": "text/x-python",
   "name": "python",
   "nbconvert_exporter": "python",
   "pygments_lexer": "ipython3",
   "version": "3.8.3"
  },
  "orig_nbformat": 4,
  "kernelspec": {
   "name": "python3",
   "display_name": "Python 3.8.3 64-bit ('base': conda)"
  },
  "interpreter": {
   "hash": "0d0f1ab1355a40fcf8dfd902ecd96580aebdbd2b735ef930594a0d03152e2824"
  }
 },
 "nbformat": 4,
 "nbformat_minor": 2,
 "cells": [
  {
   "source": [
    "# itertools"
   ],
   "cell_type": "markdown",
   "metadata": {}
  },
  {
   "source": [
    "- 이터러블로 작업하면 코드가 파이썬 자체와 더 잘 어울리는 장점이 있음\n",
    "    - 이터레이션이 언어의 중요한 컴포넌트이기 때문"
   ],
   "cell_type": "markdown",
   "metadata": {}
  },
  {
   "source": [
    "## 파이써닉 하지 않은 코드 예"
   ],
   "cell_type": "markdown",
   "metadata": {}
  },
  {
   "cell_type": "code",
   "execution_count": 2,
   "metadata": {},
   "outputs": [],
   "source": [
    "def process(self):\n",
    "    for purchase in self.purchase:\n",
    "        if purchase > 1000:\n",
    "            pass"
   ]
  },
  {
   "source": [
    "## 파이써닉한 코드 예"
   ],
   "cell_type": "markdown",
   "metadata": {}
  },
  {
   "source": [],
   "cell_type": "markdown",
   "metadata": {}
  },
  {
   "cell_type": "code",
   "execution_count": null,
   "metadata": {},
   "outputs": [],
   "source": [
    "from itertools import islice\n",
    "purchases = islice(filter(lambda p:p > 1000, purchases), 10)"
   ]
  },
  {
   "cell_type": "code",
   "execution_count": 1,
   "metadata": {},
   "outputs": [],
   "source": [
    "# 이런 식으로 필터링해도 메모리의 손해는 없다. 왜냐하면 모든 것이 제너레이터이므로 lazy valuation된다. 즉 마치 전체에서 필터링한 값으로 연산을 한 것처럼 보이지만 실제로는 한식 가져와서 모든 것을 메모리에 올릴 필요가 업어진다"
   ]
  },
  {
   "source": [
    "## itertools로 반복하기"
   ],
   "cell_type": "markdown",
   "metadata": {}
  },
  {
   "cell_type": "code",
   "execution_count": null,
   "metadata": {},
   "outputs": [],
   "source": [
    "def process_purchases(purchases):\n",
    "    min_, max_, avg = itertoolstee(purchases, 3)\n",
    "    return min(min_), max(max_), median(avg)"
   ]
  },
  {
   "source": [
    "## itertools로 중첩 루프 피하기"
   ],
   "cell_type": "markdown",
   "metadata": {}
  },
  {
   "cell_type": "code",
   "execution_count": 2,
   "metadata": {},
   "outputs": [],
   "source": [
    "# 반복을 여러 번 해야하는 경우 itertools.tee를 사용한다"
   ]
  },
  {
   "cell_type": "code",
   "execution_count": null,
   "metadata": {},
   "outputs": [],
   "source": []
  }
 ]
}