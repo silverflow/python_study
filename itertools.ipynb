{
 "metadata": {
  "language_info": {
   "codemirror_mode": {
    "name": "ipython",
    "version": 3
   },
   "file_extension": ".py",
   "mimetype": "text/x-python",
   "name": "python",
   "nbconvert_exporter": "python",
   "pygments_lexer": "ipython3",
   "version": "3.8.3"
  },
  "orig_nbformat": 4,
  "kernelspec": {
   "name": "python3",
   "display_name": "Python 3.8.3 64-bit ('crawl': conda)"
  },
  "interpreter": {
   "hash": "2a9895f6a6693118726c6c09eb8e689f0ea16a0ec39b8637a584334620912f11"
  }
 },
 "nbformat": 4,
 "nbformat_minor": 2,
 "cells": [
  {
   "cell_type": "markdown",
   "source": [
    "# itertools"
   ],
   "metadata": {}
  },
  {
   "cell_type": "markdown",
   "source": [
    "- 이터러블로 작업하면 코드가 파이썬 자체와 더 잘 어울리는 장점이 있음\n",
    "    - 이터레이션이 언어의 중요한 컴포넌트이기 때문"
   ],
   "metadata": {}
  },
  {
   "cell_type": "markdown",
   "source": [
    "## 파이써닉 하지 않은 코드 예"
   ],
   "metadata": {}
  },
  {
   "cell_type": "code",
   "execution_count": 2,
   "source": [
    "def process(self):\n",
    "    for purchase in self.purchase:\n",
    "        if purchase > 1000:\n",
    "            pass"
   ],
   "outputs": [],
   "metadata": {}
  },
  {
   "cell_type": "markdown",
   "source": [
    "## 파이써닉한 코드 예"
   ],
   "metadata": {}
  },
  {
   "cell_type": "markdown",
   "source": [],
   "metadata": {}
  },
  {
   "cell_type": "code",
   "execution_count": null,
   "source": [
    "from itertools import islice\n",
    "purchases = islice(filter(lambda p:p > 1000, purchases), 10)"
   ],
   "outputs": [],
   "metadata": {}
  },
  {
   "cell_type": "code",
   "execution_count": 1,
   "source": [
    "# 이런 식으로 필터링해도 메모리의 손해는 없다. 왜냐하면 모든 것이 제너레이터이므로 lazy valuation된다. 즉 마치 전체에서 필터링한 값으로 연산을 한 것처럼 보이지만 실제로는 한식 가져와서 모든 것을 메모리에 올릴 필요가 업어진다"
   ],
   "outputs": [],
   "metadata": {}
  },
  {
   "cell_type": "markdown",
   "source": [
    "## itertools로 반복하기"
   ],
   "metadata": {}
  },
  {
   "cell_type": "code",
   "execution_count": 22,
   "source": [
    "import itertools"
   ],
   "outputs": [],
   "metadata": {}
  },
  {
   "cell_type": "code",
   "execution_count": 23,
   "source": [
    "purchases = (1,24,235,34522,232,23,1,4,4,57,458,2,5,683567,35,568,24)"
   ],
   "outputs": [],
   "metadata": {}
  },
  {
   "cell_type": "code",
   "execution_count": 20,
   "source": [
    "def process_purchases(purchases):\n",
    "    min_, max_ = itertools.tee(purchases, 2)\n",
    "    return min(min_), max(max_)"
   ],
   "outputs": [],
   "metadata": {}
  },
  {
   "cell_type": "code",
   "execution_count": 21,
   "source": [
    "process_purchases(purchases)"
   ],
   "outputs": [
    {
     "output_type": "execute_result",
     "data": {
      "text/plain": [
       "(1, 683567)"
      ]
     },
     "metadata": {},
     "execution_count": 21
    }
   ],
   "metadata": {}
  },
  {
   "cell_type": "code",
   "execution_count": null,
   "source": [
    "# 세번 반복할 필요없이 분할된 이터러블을 사용해 필요한 연산을 한다."
   ],
   "outputs": [],
   "metadata": {}
  },
  {
   "cell_type": "code",
   "execution_count": 2,
   "source": [
    "# 반복을 여러 번 해야하는 경우 itertools.tee를 사용한다"
   ],
   "outputs": [],
   "metadata": {}
  },
  {
   "cell_type": "markdown",
   "source": [
    "## itertools로 중첩 루프 피하기"
   ],
   "metadata": {}
  },
  {
   "cell_type": "code",
   "execution_count": 29,
   "source": [
    "import logging"
   ],
   "outputs": [],
   "metadata": {}
  },
  {
   "cell_type": "code",
   "execution_count": 1,
   "source": [
    "def _iterate_array2d(array2d):\n",
    "    for i, row in enumerate(array2d):\n",
    "        for j, cell in enumerate(row):\n",
    "            yield (i, j), cell"
   ],
   "outputs": [],
   "metadata": {}
  },
  {
   "cell_type": "code",
   "execution_count": null,
   "source": [
    "def search_nested(array, desired_value):\n",
    "    try:\n",
    "        coord = next(\n",
    "            coord for (coord, cell) in _iterate_array2d(array)\n",
    "            if cell == desired_value\n",
    "        )\n",
    "    except StopIteration:\n",
    "        raise ValueError(\"{desired_value} not found\")\n",
    "\n",
    "    logging.info(\"[%i, %i]에서 값 %r 찾음\", *coords, desired_value)\n",
    "    return coord"
   ],
   "outputs": [],
   "metadata": {}
  }
 ]
}