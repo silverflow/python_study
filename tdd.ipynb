{
 "cells": [
  {
   "cell_type": "code",
   "execution_count": null,
   "source": [
    "import logging"
   ],
   "outputs": [],
   "metadata": {}
  },
  {
   "cell_type": "code",
   "execution_count": 1,
   "source": [
    "class MetricsClient:\n",
    "    \"\"\"\n",
    "    타사 지표 전송 클라이언트\n",
    "    \"\"\"\n",
    "    def send(self, metric_name, metric_value):\n",
    "        if not isinstance(metric_name,str):\n",
    "            raise TypeError(\"metric_name으로 문자열 타입을 사용해야 함\")\n",
    "        if not isinstance(metric_value,str):\n",
    "            raise TypeError(\"metric_value로 문자열 타입을 사용해야 함\")\n",
    "\n",
    "        logging.info(\"%s 전송 값 = %s\", metric_name, metric_value)"
   ],
   "outputs": [],
   "metadata": {}
  },
  {
   "cell_type": "code",
   "execution_count": 2,
   "source": [
    "class Process:\n",
    "    def __init__(self):\n",
    "        self.client = MetricsClient() # 타사 지표 전송 클라이언트\n",
    "\n",
    "    def process_interations(self, n_iterations):\n",
    "        for i in range(n_iterations):\n",
    "            result = self.run_process()\n",
    "            self.client.send(\"iteration.\".format(i), result)"
   ],
   "outputs": [],
   "metadata": {}
  },
  {
   "cell_type": "markdown",
   "source": [
    "- 메서드가 작다는 것은 테스트 가능성과 관련해 좋은 디자인이라고 할 수 있다.\n",
    "- 마지막으로 필요한 부분만 테스트하기 위해 main 메서드에서 client를 직접 다루지 않고 래퍼(wrapper)메서드에 위임한다."
   ],
   "metadata": {}
  },
  {
   "cell_type": "code",
   "execution_count": 3,
   "source": [
    "class WrappedClient:\n",
    "    def __init__(self):\n",
    "        self.client = MetricsClient()\n",
    "    \n",
    "    def send(self, metric_name, metric_value):\n",
    "        return self.client.send(str(metric_name), str(metric_value))"
   ],
   "outputs": [],
   "metadata": {}
  },
  {
   "cell_type": "code",
   "execution_count": 4,
   "source": [
    "class Process:\n",
    "    def __init__(self):\n",
    "        self.client = WrappedClient()\n",
    "\n",
    "    def process_interations(self, n_iterations):\n",
    "        for i in range(n_iterations):\n",
    "            result = self.run_process()\n",
    "            self.client.send(\"iteration.\".format(i), result)\n",
    "        "
   ],
   "outputs": [],
   "metadata": {}
  },
  {
   "cell_type": "code",
   "execution_count": 6,
   "source": [
    "import unittest\n",
    "from unittest.mock import Mock"
   ],
   "outputs": [],
   "metadata": {}
  },
  {
   "cell_type": "code",
   "execution_count": null,
   "source": [
    "class TestWrappedClient(unittest.TestCase):\n",
    "    def test_send_converts_types(self):\n",
    "        wrapped_client = WrappedClient()\n",
    "        wrapped_client.client = Mock()\n",
    "        wrapped_client.send(\"value\", 1)\n",
    "        wrapped_client.client.send.assert_called_with(\"value\", \"1\")"
   ],
   "outputs": [],
   "metadata": {}
  }
 ],
 "metadata": {
  "orig_nbformat": 4,
  "language_info": {
   "name": "python",
   "version": "3.8.3",
   "mimetype": "text/x-python",
   "codemirror_mode": {
    "name": "ipython",
    "version": 3
   },
   "pygments_lexer": "ipython3",
   "nbconvert_exporter": "python",
   "file_extension": ".py"
  },
  "kernelspec": {
   "name": "python3",
   "display_name": "Python 3.8.3 64-bit ('base': conda)"
  },
  "interpreter": {
   "hash": "0d0f1ab1355a40fcf8dfd902ecd96580aebdbd2b735ef930594a0d03152e2824"
  }
 },
 "nbformat": 4,
 "nbformat_minor": 2
}