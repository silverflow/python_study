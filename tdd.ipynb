{
 "cells": [
  {
   "cell_type": "code",
   "execution_count": null,
   "source": [
    "import logging"
   ],
   "outputs": [],
   "metadata": {}
  },
  {
   "cell_type": "code",
   "execution_count": 1,
   "source": [
    "class MetricsClient:\n",
    "    \"\"\"\n",
    "    타사 지표 전송 클라이언트\n",
    "    \"\"\"\n",
    "    def send(self, metric_name, metric_value):\n",
    "        if not isinstance(metric_name,str):\n",
    "            raise TypeError(\"metric_name으로 문자열 타입을 사용해야 함\")\n",
    "        if not isinstance(metric_value,str):\n",
    "            raise TypeError(\"metric_value로 문자열 타입을 사용해야 함\")\n",
    "\n",
    "        logging.info(\"%s 전송 값 = %s\", metric_name, metric_value)"
   ],
   "outputs": [],
   "metadata": {}
  },
  {
   "cell_type": "code",
   "execution_count": 2,
   "source": [
    "class Process:\n",
    "    def __init__(self):\n",
    "        self.client = MetricsClient() # 타사 지표 전송 클라이언트\n",
    "\n",
    "    def process_interations(self, n_iterations):\n",
    "        for i in range(n_iterations):\n",
    "            result = self.run_process()\n",
    "            self.client.send(\"iteration.\".format(i), result)"
   ],
   "outputs": [],
   "metadata": {}
  },
  {
   "cell_type": "markdown",
   "source": [
    "- 메서드가 작다는 것은 테스트 가능성과 관련해 좋은 디자인이라고 할 수 있다.\n",
    "- 마지막으로 필요한 부분만 테스트하기 위해 main 메서드에서 client를 직접 다루지 않고 래퍼(wrapper)메서드에 위임한다."
   ],
   "metadata": {}
  },
  {
   "cell_type": "code",
   "execution_count": 3,
   "source": [
    "class WrappedClient:\n",
    "    def __init__(self):\n",
    "        self.client = MetricsClient()\n",
    "    \n",
    "    def send(self, metric_name, metric_value):\n",
    "        return self.client.send(str(metric_name), str(metric_value))"
   ],
   "outputs": [],
   "metadata": {}
  },
  {
   "cell_type": "code",
   "execution_count": 4,
   "source": [
    "class Process:\n",
    "    def __init__(self):\n",
    "        self.client = WrappedClient()\n",
    "\n",
    "    def process_interations(self, n_iterations):\n",
    "        for i in range(n_iterations):\n",
    "            result = self.run_process()\n",
    "            self.client.send(\"iteration.\".format(i), result)\n",
    "        "
   ],
   "outputs": [],
   "metadata": {}
  },
  {
   "cell_type": "code",
   "execution_count": 6,
   "source": [
    "import unittest\n",
    "from unittest.mock import Mock"
   ],
   "outputs": [],
   "metadata": {}
  },
  {
   "cell_type": "code",
   "execution_count": null,
   "source": [
    "class TestWrappedClient(unittest.TestCase):\n",
    "    def test_send_converts_types(self):\n",
    "        wrapped_client = WrappedClient()\n",
    "        wrapped_client.client = Mock()\n",
    "        wrapped_client.send(\"value\", 1)\n",
    "        wrapped_client.client.send.assert_called_with(\"value\", \"1\")"
   ],
   "outputs": [],
   "metadata": {}
  },
  {
   "cell_type": "markdown",
   "source": [
    "## unittest"
   ],
   "metadata": {}
  },
  {
   "cell_type": "markdown",
   "source": [
    "- 한명 이상의 사용자가 변경 내용에 동의하지 않은 경우 머지 리퀘스트가 거절(reject)된다.\n",
    "- 아무도 반대하지 않은 상태에서 두 명 이상의 개발자가 동의하면 해당 머지 리퀘스트는 승인(approved)된다.\n",
    "- 이외의 상태는 보류(pending) 상태이다."
   ],
   "metadata": {}
  },
  {
   "cell_type": "code",
   "execution_count": 4,
   "source": [
    "from enum import Enum\n",
    "\n",
    "class MergeRequestStatus(Enum):\n",
    "    APPROVED = \"approved\"\n",
    "    REJECTED = \"rejected\"\n",
    "    PENDING = \"pending\"\n",
    "\n",
    "class MergeRequest:\n",
    "    def __init__(self):\n",
    "        self._context = {\n",
    "            \"upvotes\":set(),\n",
    "            \"downvotes\":set()\n",
    "        }\n",
    "        self._status = MergeRequestStatus.OPEN\n",
    "    \n",
    "    def close(self):\n",
    "        self._status = MergeRequestStatus.CLOSED\n",
    "    \n",
    "    @property\n",
    "    def status(self):\n",
    "        if self._context[\"downvotes\"]:\n",
    "            return MergeRequestStatus.REJECTED\n",
    "        \n",
    "        elif len(self._context[\"upvotes\"]) >=2:\n",
    "            return MergeRequestStatus.APPROVED\n",
    "            return MergeRequestStatus.PENDING\n",
    "        \n",
    "    def upvote(self, by_user):\n",
    "        self._cannot_vote_if_closed()\n",
    "\n",
    "        self._context[\"downvotes\"].discard(by_user)\n",
    "        self._context[\"upvotes\"].add(by_user)\n",
    "\n",
    "    def downvote(self, by_user):\n",
    "        self._cannot_vote_if_closed()\n",
    "\n",
    "        self._context[\"upvotes\"].discard(by_user)\n",
    "        self._context[\"downvotes\"].add(by_user)\n",
    "\n",
    "    def _cannot_vote_if_closed(self):\n",
    "        if self._status == MergeRequestStatus.CLOSED:\n",
    "            raise MergeRequestException(\"종료된 머지 리퀘스트에 투표할 수 없음\")\n",
    "\n",
    "\n"
   ],
   "outputs": [],
   "metadata": {}
  },
  {
   "cell_type": "code",
   "execution_count": 7,
   "source": [
    "import unittest"
   ],
   "outputs": [],
   "metadata": {}
  },
  {
   "cell_type": "code",
   "execution_count": 8,
   "source": [
    "class TestMergeRequestStatus(unittest.TestCase):\n",
    "    def test_simple_rejected(self):\n",
    "        merge_request = MergeRequest()\n",
    "        merge_request.downvote(\"maintainer\")\n",
    "        self,assertEqual(merge_request.status, MergeRequestStatus.REJECTED)\n",
    "\n",
    "    def test_just_created_is_pending(self):\n",
    "        self.assertEqual(MergeRequest().status, MergeRequestStatus.PENDING)\n",
    "\n",
    "    def test_pendin_awaiting_review(self):\n",
    "        merge_request = MergeRequest()\n",
    "        merge_request.upvode(\"core-dev\")\n",
    "        self.assertEqual(merge_request.status, MergeRequestStatus.PENDING)\n",
    "\n",
    "    def test_approved(self):\n",
    "        merge_request = MergeRequest()\n",
    "        merge_request.upvote(\"dev1\")\n",
    "        merge_request.upvote(\"dev2\")\n",
    "        self.assertEqual(merge_request.status, MergeRequestStatus.APPROVED)\n",
    "\n",
    "    def test_cannot_upvote_on_closed_merge_request(self):\n",
    "        self.merge_request.close()\n",
    "        self.assertRaises(\n",
    "            MergeRequestException, self.merge_request.upvote, \"dev1\"\n",
    "        )\n",
    "\n",
    "    def test_cannot_downvote_on_closed_merge_request(self):\n",
    "        self.merge_request.close()\n",
    "        self.assertRaisesRegex(\n",
    "            \"종료된 머지 리퀘스트에 투표할 수 없음\",\n",
    "            self.merge_request.downvote,\n",
    "            \"dev1\"\n",
    "        )"
   ],
   "outputs": [],
   "metadata": {}
  }
 ],
 "metadata": {
  "orig_nbformat": 4,
  "language_info": {
   "name": "python",
   "version": "3.8.3",
   "mimetype": "text/x-python",
   "codemirror_mode": {
    "name": "ipython",
    "version": 3
   },
   "pygments_lexer": "ipython3",
   "nbconvert_exporter": "python",
   "file_extension": ".py"
  },
  "kernelspec": {
   "name": "python3",
   "display_name": "Python 3.8.3 64-bit ('base': conda)"
  },
  "interpreter": {
   "hash": "0d0f1ab1355a40fcf8dfd902ecd96580aebdbd2b735ef930594a0d03152e2824"
  }
 },
 "nbformat": 4,
 "nbformat_minor": 2
}